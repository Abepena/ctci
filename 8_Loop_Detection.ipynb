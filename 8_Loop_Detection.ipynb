{
 "cells": [
  {
   "cell_type": "code",
   "execution_count": 22,
   "metadata": {},
   "outputs": [],
   "source": [
    "from LinkedList import LinkedList\n",
    "\n",
    "def loop_detection(ll):\n",
    "    \"\"\"\n",
    "    Input: linked list with a loop in it\n",
    "    Output: start of loop\n",
    "    \n",
    "    Input: 1 -> 2 -> 3 -> 4 -> 5 -> 3\n",
    "    Returns: 3\n",
    "    \"\"\"\n",
    "    \n",
    "    seen_nodes = set()\n",
    "    node = ll.head\n",
    "    while node:\n",
    "        if node.value in seen_nodes:\n",
    "            return node.value\n",
    "        seen_nodes.add(node.value)\n",
    "        node = node.next\n",
    "    \n",
    "ll = LinkedList([1,2,3,4,5,3])"
   ]
  },
  {
   "cell_type": "code",
   "execution_count": 23,
   "metadata": {},
   "outputs": [
    {
     "data": {
      "text/plain": [
       "3"
      ]
     },
     "execution_count": 23,
     "metadata": {},
     "output_type": "execute_result"
    }
   ],
   "source": [
    "loop_detection(ll)"
   ]
  },
  {
   "cell_type": "code",
   "execution_count": 24,
   "metadata": {},
   "outputs": [],
   "source": [
    "def loop_detection_runner_technique(ll):\n",
    "    fast = slow = ll.head\n",
    "    \n",
    "    while fast and fast.next:\n",
    "        fast = fast.next.next\n",
    "        slow = slow.next\n",
    "        if fast is slow:\n",
    "            break\n",
    "    \n",
    "    #If there was no loop\n",
    "    if fast is None or fast.next is None:\n",
    "        return None\n",
    "    \n",
    "    #fast is 2k - k --> k steps into the loop, so incrementing fast and slow by 1 will collide them at the start of the loop\n",
    "    slow = ll.head\n",
    "    while fast is not slow:\n",
    "        slow = slow.next\n",
    "        fast = fast.next\n",
    "        \n",
    "    return fast"
   ]
  },
  {
   "cell_type": "code",
   "execution_count": 25,
   "metadata": {},
   "outputs": [
    {
     "name": "stdout",
     "output_type": "stream",
     "text": [
      "None\n"
     ]
    }
   ],
   "source": []
  },
  {
   "cell_type": "code",
   "execution_count": null,
   "metadata": {},
   "outputs": [],
   "source": []
  }
 ],
 "metadata": {
  "kernelspec": {
   "display_name": "Python 3",
   "language": "python",
   "name": "python3"
  },
  "language_info": {
   "codemirror_mode": {
    "name": "ipython",
    "version": 3
   },
   "file_extension": ".py",
   "mimetype": "text/x-python",
   "name": "python",
   "nbconvert_exporter": "python",
   "pygments_lexer": "ipython3",
   "version": "3.6.5"
  }
 },
 "nbformat": 4,
 "nbformat_minor": 2
}
