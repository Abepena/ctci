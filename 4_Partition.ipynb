{
 "cells": [
  {
   "cell_type": "code",
   "execution_count": 13,
   "metadata": {},
   "outputs": [],
   "source": [
    "from LinkedList import LinkedList, LinkedListNode"
   ]
  },
  {
   "cell_type": "code",
   "execution_count": 14,
   "metadata": {},
   "outputs": [],
   "source": [
    "def partition(ll, x):\n",
    "    current = ll.head\n",
    "    left = LinkedList()\n",
    "    right = LinkedList()\n",
    "    \n",
    "    while current:\n",
    "        if current.value < x:\n",
    "            left.add(current.value)\n",
    "        else:\n",
    "            right.add(current.value)\n",
    "        current = current.next\n",
    "    \n",
    "    if left.head:\n",
    "        left.tail.next = right.head\n",
    "        return left\n",
    "    else:\n",
    "        return right\n",
    "            "
   ]
  },
  {
   "cell_type": "code",
   "execution_count": null,
   "metadata": {},
   "outputs": [],
   "source": []
  },
  {
   "cell_type": "code",
   "execution_count": 15,
   "metadata": {},
   "outputs": [
    {
     "name": "stdout",
     "output_type": "stream",
     "text": [
      "8 -> 9 -> 2 -> 7 -> 9 -> 1 -> 6\n"
     ]
    }
   ],
   "source": [
    "ll = LinkedList()\n",
    "ll.generate(7, 1,10)\n",
    "print(ll)\n"
   ]
  },
  {
   "cell_type": "code",
   "execution_count": 16,
   "metadata": {},
   "outputs": [
    {
     "name": "stdout",
     "output_type": "stream",
     "text": [
      "2 -> 1 -> 8 -> 9 -> 7 -> 9 -> 6\n"
     ]
    }
   ],
   "source": [
    "print(partition(ll,5))"
   ]
  },
  {
   "cell_type": "code",
   "execution_count": 5,
   "metadata": {},
   "outputs": [
    {
     "name": "stdout",
     "output_type": "stream",
     "text": [
      "1 -> 2 -> 9 -> 10 -> 9 -> 8 -> 8\n"
     ]
    }
   ],
   "source": []
  },
  {
   "cell_type": "code",
   "execution_count": null,
   "metadata": {},
   "outputs": [],
   "source": [
    "def partition_solution(ll, x):\n",
    "    current = ll.tail = ll.head\n",
    "    \n",
    "    while current:\n",
    "        nextNode = current.next\n",
    "        current.next = None\n",
    "        \n",
    "        if current.value < x:\n",
    "            current.next = ll.head\n",
    "            ll.head.next = current\n",
    "        else:\n",
    "            ll.tail.next = current\n",
    "            ll.tail = current\n",
    "            \n",
    "        current = nextNode\n",
    "    \n",
    "    if ll.tail.next is not None:\n",
    "        ll.tail.next = None\n",
    "            \n",
    "        "
   ]
  }
 ],
 "metadata": {
  "kernelspec": {
   "display_name": "Python 3",
   "language": "python",
   "name": "python3"
  },
  "language_info": {
   "codemirror_mode": {
    "name": "ipython",
    "version": 3
   },
   "file_extension": ".py",
   "mimetype": "text/x-python",
   "name": "python",
   "nbconvert_exporter": "python",
   "pygments_lexer": "ipython3",
   "version": "3.6.5"
  }
 },
 "nbformat": 4,
 "nbformat_minor": 2
}
