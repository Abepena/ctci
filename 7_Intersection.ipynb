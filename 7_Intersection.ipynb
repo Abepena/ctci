{
 "cells": [
  {
   "cell_type": "code",
   "execution_count": 43,
   "metadata": {},
   "outputs": [],
   "source": [
    "class LinkedListNode:\n",
    "\n",
    "    def __init__(self, value, nextNode=None, prevNode=None):\n",
    "        self.value = value\n",
    "        self.next = nextNode\n",
    "        self.prev = prevNode\n",
    "\n",
    "    def __str__(self):\n",
    "        return str(self.value)\n",
    "    \n",
    "    def __repr__(self):\n",
    "        return 'LinkedListNode({})'.format(str(self.value))\n"
   ]
  },
  {
   "cell_type": "code",
   "execution_count": 44,
   "metadata": {},
   "outputs": [],
   "source": [
    "def intersection(list1, list2):\n",
    "    \"\"\"\n",
    "    Input: list1: LinkedList\n",
    "           list2: LinkedList\n",
    "    Output: node: LinkedListNode first node that shares the same reference \n",
    "    \"\"\"\n",
    "    if list1[-1] is not list2[-1]:\n",
    "        return False\n",
    "    \n",
    "    shorter = list1 if len(list1) < len(list2) else list2\n",
    "    longer = list2 if len(list1) < len(list2) else list1\n",
    "    \n",
    "    diff = len(longer) - len(shorter)\n",
    "    \n",
    "    short_index = 0\n",
    "    long_index = 0\n",
    "    \n",
    "    for _ in range(diff):\n",
    "        long_index += 1\n",
    "        \n",
    "    while shorter[short_index] is not longer[long_index]:\n",
    "        short_index += 1\n",
    "        long_index += 1\n",
    "        \n",
    "    return shorter[short_index]\n",
    "\n",
    "\n",
    "n1 = LinkedListNode(1)\n",
    "n2 = LinkedListNode(2)\n",
    "n3 = LinkedListNode(3)\n",
    "n4 = LinkedListNode(4)\n",
    "n5 = LinkedListNode(5)\n",
    "n6 = LinkedListNode(6)\n",
    "\n",
    "list1 = [n1, n2, n3 , n4]\n",
    "list2 = [n5, n6, n2, n3, n4]"
   ]
  },
  {
   "cell_type": "code",
   "execution_count": 45,
   "metadata": {},
   "outputs": [
    {
     "data": {
      "text/plain": [
       "LinkedListNode(2)"
      ]
     },
     "execution_count": 45,
     "metadata": {},
     "output_type": "execute_result"
    }
   ],
   "source": [
    "intersection(list1, list2)"
   ]
  },
  {
   "cell_type": "code",
   "execution_count": 41,
   "metadata": {},
   "outputs": [
    {
     "data": {
      "text/plain": [
       "[<LinkedList.LinkedListNode at 0x7f2d0ee51ac8>,\n",
       " <LinkedList.LinkedListNode at 0x7f2d0ee51b00>,\n",
       " <LinkedList.LinkedListNode at 0x7f2d0ee51a20>,\n",
       " <LinkedList.LinkedListNode at 0x7f2d0ee51a58>,\n",
       " <LinkedList.LinkedListNode at 0x7f2d0ee51a90>]"
      ]
     },
     "execution_count": 41,
     "metadata": {},
     "output_type": "execute_result"
    }
   ],
   "source": []
  },
  {
   "cell_type": "code",
   "execution_count": null,
   "metadata": {},
   "outputs": [],
   "source": []
  }
 ],
 "metadata": {
  "kernelspec": {
   "display_name": "Python 3",
   "language": "python",
   "name": "python3"
  },
  "language_info": {
   "codemirror_mode": {
    "name": "ipython",
    "version": 3
   },
   "file_extension": ".py",
   "mimetype": "text/x-python",
   "name": "python",
   "nbconvert_exporter": "python",
   "pygments_lexer": "ipython3",
   "version": "3.6.5"
  }
 },
 "nbformat": 4,
 "nbformat_minor": 2
}
