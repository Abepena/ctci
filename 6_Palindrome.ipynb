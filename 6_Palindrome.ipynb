{
 "cells": [
  {
   "cell_type": "code",
   "execution_count": 5,
   "metadata": {},
   "outputs": [],
   "source": [
    "from LinkedList import LinkedList\n",
    "\n",
    "def palindrome_check(linked_list):\n",
    "    current= linked_list.head\n",
    "    stack = []\n",
    "    # create a stack of all letters in the linked list in order\n",
    "    while current:\n",
    "        stack.append(current.value)\n",
    "        current = current.next\n",
    "    \n",
    "    #reset current pointer to begining of linked list\n",
    "    current = linked_list.head\n",
    "    \n",
    "    #compare last item in stack with current node value\n",
    "    while current:\n",
    "        letter = stack.pop()\n",
    "        if letter != current.value:\n",
    "            return False\n",
    "        current = current.next\n",
    "    \n",
    "    return True\n",
    "\n",
    "linked_list_true = LinkedList([letter for letter in 'tacocat'])\n",
    "linked_list_false = LinkedList([letter for letter in 'actocat'])\n",
    "    \n",
    "    \n",
    "    \n",
    "    "
   ]
  },
  {
   "cell_type": "code",
   "execution_count": 7,
   "metadata": {},
   "outputs": [
    {
     "data": {
      "text/plain": [
       "True"
      ]
     },
     "execution_count": 7,
     "metadata": {},
     "output_type": "execute_result"
    }
   ],
   "source": [
    "palindrome_check(linked_list_true)"
   ]
  },
  {
   "cell_type": "code",
   "execution_count": 8,
   "metadata": {},
   "outputs": [
    {
     "data": {
      "text/plain": [
       "False"
      ]
     },
     "execution_count": 8,
     "metadata": {},
     "output_type": "execute_result"
    }
   ],
   "source": [
    "palindrome_check(linked_list_false)"
   ]
  },
  {
   "cell_type": "code",
   "execution_count": null,
   "metadata": {},
   "outputs": [],
   "source": []
  }
 ],
 "metadata": {
  "kernelspec": {
   "display_name": "Python 3",
   "language": "python",
   "name": "python3"
  },
  "language_info": {
   "codemirror_mode": {
    "name": "ipython",
    "version": 3
   },
   "file_extension": ".py",
   "mimetype": "text/x-python",
   "name": "python",
   "nbconvert_exporter": "python",
   "pygments_lexer": "ipython3",
   "version": "3.6.5"
  }
 },
 "nbformat": 4,
 "nbformat_minor": 2
}
